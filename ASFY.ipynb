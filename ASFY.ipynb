{
 "cells": [
  {
   "cell_type": "markdown",
   "metadata": {},
   "source": [
    "Python numbers data types"
   ]
  },
  {
   "cell_type": "code",
   "execution_count": null,
   "metadata": {},
   "outputs": [
    {
     "ename": "",
     "evalue": "",
     "output_type": "error",
     "traceback": [
      "\u001b[1;31mRunning cells with 'Python 3.10.12' requires the ipykernel package.\n",
      "\u001b[1;31mRun the following command to install 'ipykernel' into the Python environment. \n",
      "\u001b[1;31mCommand: '/bin/python3 -m pip install ipykernel -U --user --force-reinstall'"
     ]
    }
   ],
   "source": [
    "\"\"\"There are three numeric types in Python:\n",
    "    int\n",
    "    float\n",
    "    complex\"\"\"\n",
    "\"\"\"in types we have to create on variable it is used to assaign on value in that we can create any variable with any name\"\"\"\n",
    "\n",
    "\n",
    "\n",
    "#Examples#\n",
    "x = 1    # int\n",
    "y = 2.5  # float\n",
    "z = 3j   # complex\n",
    "\n",
    "\n",
    "# to verify the type of an number in any variable we have to type\"\"\"type()\"\"\"\n",
    "#function#\n",
    "#Example#\n",
    "print(type(x))\n",
    "print(type(y))\n",
    "print(type(z))\n",
    "\n",
    "\n",
    "#Int#\n",
    "\"\"\" int is used to assaign one value to one variable in positive or negative\"\"\"\n",
    "\n",
    "x =5\n",
    "y =1234567890987654321\n",
    "z =-2016789\n",
    "\n",
    "print(type(x))\n",
    "print(type(y))\n",
    "print(type(z))\n",
    "\n",
    "\n",
    "#Float#\n",
    "# Float, or \"floating point number\" is a number, positive or negative, containing one or more decimals.#\n",
    "#Examples#\n",
    "#Floats:#\n",
    "\n",
    "x = 1.5\n",
    "y = 1.0\n",
    "z = -35.55\n",
    "\n",
    "print(type(x))\n",
    "print(type(y))\n",
    "print(type(z))\n",
    "#only floats and int#\n"
   ]
  }
 ],
 "metadata": {
  "kernelspec": {
   "display_name": "Python 3",
   "language": "python",
   "name": "python3"
  },
  "language_info": {
   "name": "python",
   "version": "3.10.12"
  }
 },
 "nbformat": 4,
 "nbformat_minor": 2
}
